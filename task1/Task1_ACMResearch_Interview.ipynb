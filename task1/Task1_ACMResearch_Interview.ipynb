{
  "nbformat": 4,
  "nbformat_minor": 0,
  "metadata": {
    "colab": {
      "provenance": [],
      "authorship_tag": "ABX9TyO0XfuH9Fy19Aq3EtF7G5p8",
      "include_colab_link": true
    },
    "kernelspec": {
      "name": "python3",
      "display_name": "Python 3"
    },
    "language_info": {
      "name": "python"
    }
  },
  "cells": [
    {
      "cell_type": "markdown",
      "metadata": {
        "id": "view-in-github",
        "colab_type": "text"
      },
      "source": [
        "<a href=\"https://colab.research.google.com/github/Mr-Nobody-exe/ToyamShah_ACMResearch_Interview/blob/main/task1/Task1_ACMResearch_Interview.ipynb\" target=\"_parent\"><img src=\"https://colab.research.google.com/assets/colab-badge.svg\" alt=\"Open In Colab\"/></a>"
      ]
    },
    {
      "cell_type": "code",
      "execution_count": 65,
      "metadata": {
        "id": "ioz3-2za8GcH"
      },
      "outputs": [],
      "source": [
        "## Importing regex and datetime libraries\n",
        "import re\n",
        "from datetime import datetime"
      ]
    },
    {
      "cell_type": "code",
      "source": [
        "## Adding suffix to dates (1st,2nd,3rd...)\n",
        "def suffix_to_date(day: int)->str:\n",
        "  if 11<=day<=13:\n",
        "    return f\"{day}th\"\n",
        "  elif day%10==1:\n",
        "    return f\"{day}st\"\n",
        "  elif day%10==2:\n",
        "    return f\"{day}nd\"\n",
        "  elif day%10==3:\n",
        "    return f\"{day}rd\"\n",
        "  else:\n",
        "    return f\"{day}th\""
      ],
      "metadata": {
        "id": "L7CA2fF0CDRT"
      },
      "execution_count": 66,
      "outputs": []
    },
    {
      "cell_type": "code",
      "source": [
        "## Redact function using regex substitute function\n",
        "def redact_phonenum(text: str)->str:\n",
        "  text = re.sub(r\"\\d{5}[-\\s]\\d{5}\",\"[REDACTED]\", text)\n",
        "  text = re.sub(r\"\\d{3}[-\\s]\\d{3}[-\\s]\\d{4}\", \"[REDACTED]\", text)\n",
        "  text = re.sub(r\"(\\+91[-\\s]\\d{10})|(0\\d{10})|(\\d{10})\", \"[REDACTED]\", text)\n",
        "  return text"
      ],
      "metadata": {
        "id": "JEBxRhROFsDC"
      },
      "execution_count": 67,
      "outputs": []
    },
    {
      "cell_type": "code",
      "source": [
        "## Converting dates\n",
        "def convert_dates(text: str)->str:\n",
        "  matches = re.findall(r\"\\d{2}[-/\\s.]\\d{2}[-/\\s.]\\d{4}\", text) #finding dd-mm-yyyy, dd/mm/yyyy, dd mm yyyy, dd.mm.yyyy\n",
        "  for m in matches:\n",
        "    m = re.sub(r\"[-/\\s.]\",\"-\",m); #standardizing to dd-mm-yyyy\n",
        "    date_obj = datetime.strptime(m, \"%d-%m-%Y\")\n",
        "    day = suffix_to_date(date_obj.day)\n",
        "    rep = f\"{day} {date_obj.strftime('%B %Y')}\"\n",
        "    text = re.sub(m, rep, text)\n",
        "  return text"
      ],
      "metadata": {
        "id": "fZueZeA2HsSo"
      },
      "execution_count": 68,
      "outputs": []
    },
    {
      "cell_type": "code",
      "source": [
        "## Easter egg\n",
        "def easter_eggs(text: str)->str:\n",
        "  text = re.sub(r\"Python\", \"Pythoff\", text)\n",
        "  text = re.sub(r\"python\", \"pythoff\", text)\n",
        "  return text"
      ],
      "metadata": {
        "id": "6zEyhmp4m35H"
      },
      "execution_count": 69,
      "outputs": []
    },
    {
      "cell_type": "code",
      "source": [
        "## Main transformation function calling other sub functions\n",
        "def transform_text(input_text: str) -> str:\n",
        "    # apply transformations\n",
        "    transformed_text = redact_phonenum(input_text)\n",
        "    transformed_text = convert_dates(transformed_text)\n",
        "    transformed_text = easter_eggs(transformed_text)\n",
        "    return transformed_text"
      ],
      "metadata": {
        "id": "qPS9r_SjekHA"
      },
      "execution_count": 70,
      "outputs": []
    },
    {
      "cell_type": "code",
      "source": [
        "## I/O\n",
        "input_text = \"\"\"Call me at 98123-45678 or +91 9812345678 or 456-789-0123 on 28-08-2025.\n",
        "I can't Python.\n",
        "\"\"\"\n",
        "\n",
        "output_text = transform_text(input_text)\n",
        "print(\"Input:\\n\", input_text)\n",
        "print(\"\\nOutput:\\n\", output_text)"
      ],
      "metadata": {
        "colab": {
          "base_uri": "https://localhost:8080/"
        },
        "id": "mDjhp6tQpmCp",
        "outputId": "3e753e06-9cbd-4bff-a99d-46c4c9047b6a"
      },
      "execution_count": 71,
      "outputs": [
        {
          "output_type": "stream",
          "name": "stdout",
          "text": [
            "Input:\n",
            " Call me at 98123-45678 or +91 9812345678 or 456-789-0123 on 28-08-2025.\n",
            "I can't Python.\n",
            "\n",
            "\n",
            "Output:\n",
            " Call me at [REDACTED] or [REDACTED] or [REDACTED] on 28th August 2025.\n",
            "I can't Pythoff.\n",
            "\n"
          ]
        }
      ]
    },
    {
      "cell_type": "code",
      "source": [
        "## Mr.Nobody was here.\n",
        "## Shinzou wo sasageyo"
      ],
      "metadata": {
        "id": "zYk4S2rEmbsf"
      },
      "execution_count": 72,
      "outputs": []
    }
  ]
}