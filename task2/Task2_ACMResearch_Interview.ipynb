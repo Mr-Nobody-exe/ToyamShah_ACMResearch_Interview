{
  "nbformat": 4,
  "nbformat_minor": 0,
  "metadata": {
    "colab": {
      "provenance": [],
      "authorship_tag": "ABX9TyNYTayS8G5Ok8RBgz+CDhjh",
      "include_colab_link": true
    },
    "kernelspec": {
      "name": "python3",
      "display_name": "Python 3"
    },
    "language_info": {
      "name": "python"
    }
  },
  "cells": [
    {
      "cell_type": "markdown",
      "metadata": {
        "id": "view-in-github",
        "colab_type": "text"
      },
      "source": [
        "<a href=\"https://colab.research.google.com/github/Mr-Nobody-exe/ToyamShah_ACMResearch_Interview/blob/main/task2/Task2_ACMResearch_Interview.ipynb\" target=\"_parent\"><img src=\"https://colab.research.google.com/assets/colab-badge.svg\" alt=\"Open In Colab\"/></a>"
      ]
    },
    {
      "cell_type": "code",
      "execution_count": 23,
      "metadata": {
        "id": "Wpi6fTHviezO"
      },
      "outputs": [],
      "source": [
        "## Imports\n",
        "import re\n",
        "import json"
      ]
    },
    {
      "cell_type": "code",
      "source": [
        "## Function to parse bibliography\n",
        "def parse_bibliography(text):\n",
        "  entries = text.strip().split(\"\\n\")\n",
        "  results = [] ##empty list of dictionaries\n",
        "\n",
        "  for entry in entries:\n",
        "    match = re.match(r\"^(.*)\\s\\((\\d{4})\\)\\.\\s(.*)\\.\\s(.*)\\.$\",entry)\n",
        "    ##matching with the general citation format\n",
        "    ##Author(s). (Year). Title. Source.\n",
        "    if match:\n",
        "      author = match.group(1).strip()\n",
        "      year = int(match.group(2))\n",
        "      title = match.group(3).strip()\n",
        "      source = match.group(4).strip()\n",
        "\n",
        "      results.append({\n",
        "          \"author\": author,\n",
        "          \"year\": year,\n",
        "          \"title\": title,\n",
        "          \"source\": source\n",
        "      })\n",
        "  return results"
      ],
      "metadata": {
        "id": "pwTCAnJ-3gZV"
      },
      "execution_count": 24,
      "outputs": []
    },
    {
      "cell_type": "code",
      "source": [
        "## Hard-coded Input\n",
        "bibliography_text = \"\"\"\n",
        "Sharma, R. (2021). AI in healthcare. Springer.\n",
        "Brown, T. (2020). GPT-3: Language models are few-shot learners. NeurIPS.\n",
        "Patel, A. and Singh, M. (2019). Deep learning applications. Elsevier.\n",
        "\"\"\"\n",
        "\n",
        "\n",
        "structured_data = parse_bibliography(bibliography_text)\n",
        "print(json.dumps(structured_data, indent=2))"
      ],
      "metadata": {
        "colab": {
          "base_uri": "https://localhost:8080/"
        },
        "id": "7hVwTol4-xEQ",
        "outputId": "4f35bb41-2077-40b9-eca2-5aea3ced104e"
      },
      "execution_count": 25,
      "outputs": [
        {
          "output_type": "stream",
          "name": "stdout",
          "text": [
            "[\n",
            "  {\n",
            "    \"author\": \"Sharma, R.\",\n",
            "    \"year\": 2021,\n",
            "    \"title\": \"AI in healthcare\",\n",
            "    \"source\": \"Springer\"\n",
            "  },\n",
            "  {\n",
            "    \"author\": \"Brown, T.\",\n",
            "    \"year\": 2020,\n",
            "    \"title\": \"GPT-3: Language models are few-shot learners\",\n",
            "    \"source\": \"NeurIPS\"\n",
            "  },\n",
            "  {\n",
            "    \"author\": \"Patel, A. and Singh, M.\",\n",
            "    \"year\": 2019,\n",
            "    \"title\": \"Deep learning applications\",\n",
            "    \"source\": \"Elsevier\"\n",
            "  }\n",
            "]\n"
          ]
        }
      ]
    },
    {
      "cell_type": "code",
      "source": [
        "## Mr.Nobody was here.\n",
        "## Shinzou wo sasageyo"
      ],
      "metadata": {
        "id": "otJKjXuo_Ook"
      },
      "execution_count": 26,
      "outputs": []
    }
  ]
}